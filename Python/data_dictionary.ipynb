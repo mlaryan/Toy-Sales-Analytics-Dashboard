{
 "cells": [
  {
   "cell_type": "code",
   "execution_count": 1,
   "id": "cd81c00e",
   "metadata": {},
   "outputs": [],
   "source": [
    "import pandas as pd\n",
    "import numpy as np\n",
    "import seaborn as sns\n",
    "import matplotlib.pyplot as plt\n",
    "%matplotlib inline"
   ]
  },
  {
   "cell_type": "code",
   "execution_count": 2,
   "id": "be87d626",
   "metadata": {},
   "outputs": [
    {
     "data": {
      "text/html": [
       "<div>\n",
       "<style scoped>\n",
       "    .dataframe tbody tr th:only-of-type {\n",
       "        vertical-align: middle;\n",
       "    }\n",
       "\n",
       "    .dataframe tbody tr th {\n",
       "        vertical-align: top;\n",
       "    }\n",
       "\n",
       "    .dataframe thead th {\n",
       "        text-align: right;\n",
       "    }\n",
       "</style>\n",
       "<table border=\"1\" class=\"dataframe\">\n",
       "  <thead>\n",
       "    <tr style=\"text-align: right;\">\n",
       "      <th></th>\n",
       "      <th>Table</th>\n",
       "      <th>Field</th>\n",
       "      <th>Description</th>\n",
       "    </tr>\n",
       "  </thead>\n",
       "  <tbody>\n",
       "    <tr>\n",
       "      <th>0</th>\n",
       "      <td>Products</td>\n",
       "      <td>Product_ID</td>\n",
       "      <td>Product ID</td>\n",
       "    </tr>\n",
       "    <tr>\n",
       "      <th>1</th>\n",
       "      <td>Products</td>\n",
       "      <td>Product_Name</td>\n",
       "      <td>Product name</td>\n",
       "    </tr>\n",
       "    <tr>\n",
       "      <th>2</th>\n",
       "      <td>Products</td>\n",
       "      <td>Product_Category</td>\n",
       "      <td>Product Category</td>\n",
       "    </tr>\n",
       "    <tr>\n",
       "      <th>3</th>\n",
       "      <td>Products</td>\n",
       "      <td>Product_Cost</td>\n",
       "      <td>Product cost ($USD)</td>\n",
       "    </tr>\n",
       "    <tr>\n",
       "      <th>4</th>\n",
       "      <td>Products</td>\n",
       "      <td>Product_Price</td>\n",
       "      <td>Product retail price ($USD)</td>\n",
       "    </tr>\n",
       "  </tbody>\n",
       "</table>\n",
       "</div>"
      ],
      "text/plain": [
       "      Table             Field                  Description\n",
       "0  Products        Product_ID                   Product ID\n",
       "1  Products      Product_Name                 Product name\n",
       "2  Products  Product_Category             Product Category\n",
       "3  Products      Product_Cost          Product cost ($USD)\n",
       "4  Products     Product_Price  Product retail price ($USD)"
      ]
     },
     "execution_count": 2,
     "metadata": {},
     "output_type": "execute_result"
    }
   ],
   "source": [
    "df = pd.read_csv(\"data_dictionary.csv\")\n",
    "df.head(5)"
   ]
  },
  {
   "cell_type": "code",
   "execution_count": 5,
   "id": "6a6d2e60",
   "metadata": {},
   "outputs": [
    {
     "name": "stdout",
     "output_type": "stream",
     "text": [
      "<class 'pandas.core.frame.DataFrame'>\n",
      "RangeIndex: 19 entries, 0 to 18\n",
      "Data columns (total 3 columns):\n",
      " #   Column       Non-Null Count  Dtype \n",
      "---  ------       --------------  ----- \n",
      " 0   Table        19 non-null     object\n",
      " 1   Field        19 non-null     object\n",
      " 2   Description  19 non-null     object\n",
      "dtypes: object(3)\n",
      "memory usage: 588.0+ bytes\n"
     ]
    }
   ],
   "source": [
    "df.info()"
   ]
  },
  {
   "cell_type": "code",
   "execution_count": 3,
   "id": "720867fb",
   "metadata": {},
   "outputs": [
    {
     "name": "stdout",
     "output_type": "stream",
     "text": [
      "Table          0\n",
      "Field          0\n",
      "Description    0\n",
      "dtype: int64\n",
      "(19, 3)\n"
     ]
    }
   ],
   "source": [
    "print(df.isnull().sum())\n",
    "print(df.shape)"
   ]
  },
  {
   "cell_type": "code",
   "execution_count": 4,
   "id": "a4e43d11",
   "metadata": {},
   "outputs": [
    {
     "name": "stdout",
     "output_type": "stream",
     "text": [
      "Table : ['Products' 'Inventory' 'Stores' 'Sales' 'Calendar']\n",
      "Field : ['Product_ID' 'Product_Name' 'Product_Category' 'Product_Cost'\n",
      " 'Product_Price' 'Store_ID' 'Stock_On_Hand' 'Store_Name' 'Store_City'\n",
      " 'Store_Location' 'Store_Open_Date' 'Sale_ID' 'Date' 'Units']\n",
      "Description : <bound method Series.unique of 0                                            Product ID\n",
      "1                                          Product name\n",
      "2                                      Product Category\n",
      "3                                   Product cost ($USD)\n",
      "4                           Product retail price ($USD)\n",
      "5                                              Store ID\n",
      "6                                            Product ID\n",
      "7     Stock quantity of the product in the store (in...\n",
      "8                                              Store ID\n",
      "9                                            Store name\n",
      "10            City in Mexico where the store is located\n",
      "11      Location in the city where the store is located\n",
      "12                       Date when the store was opened\n",
      "13                                              Sale ID\n",
      "14                              Date of the transaction\n",
      "15                                             Store ID\n",
      "16                                           Product ID\n",
      "17                                           Units sold\n",
      "18                                        Calendar date\n",
      "Name: Description, dtype: object>\n"
     ]
    }
   ],
   "source": [
    "print(\"Table :\",df['Table'].unique())\n",
    "print(\"Field :\" ,df['Field'].unique())\n",
    "print(\"Description :\",df['Description'].unique)\n"
   ]
  },
  {
   "cell_type": "code",
   "execution_count": 6,
   "id": "4d889d15",
   "metadata": {},
   "outputs": [],
   "source": [
    "df.to_csv('Clean_data_dictionary.csv', index=False)"
   ]
  },
  {
   "cell_type": "code",
   "execution_count": null,
   "id": "08bfeff9",
   "metadata": {},
   "outputs": [],
   "source": []
  }
 ],
 "metadata": {
  "kernelspec": {
   "display_name": "base",
   "language": "python",
   "name": "python3"
  },
  "language_info": {
   "codemirror_mode": {
    "name": "ipython",
    "version": 3
   },
   "file_extension": ".py",
   "mimetype": "text/x-python",
   "name": "python",
   "nbconvert_exporter": "python",
   "pygments_lexer": "ipython3",
   "version": "3.12.4"
  }
 },
 "nbformat": 4,
 "nbformat_minor": 5
}
