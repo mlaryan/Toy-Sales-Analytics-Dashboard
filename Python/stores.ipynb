{
 "cells": [
  {
   "cell_type": "code",
   "execution_count": 1,
   "id": "a6f2f7df",
   "metadata": {},
   "outputs": [],
   "source": [
    "import pandas as pd\n",
    "import numpy as np\n",
    "import seaborn as sns\n",
    "import matplotlib.pyplot as plt\n",
    "%matplotlib inline"
   ]
  },
  {
   "cell_type": "code",
   "execution_count": 2,
   "id": "dc0243a6",
   "metadata": {},
   "outputs": [
    {
     "data": {
      "text/html": [
       "<div>\n",
       "<style scoped>\n",
       "    .dataframe tbody tr th:only-of-type {\n",
       "        vertical-align: middle;\n",
       "    }\n",
       "\n",
       "    .dataframe tbody tr th {\n",
       "        vertical-align: top;\n",
       "    }\n",
       "\n",
       "    .dataframe thead th {\n",
       "        text-align: right;\n",
       "    }\n",
       "</style>\n",
       "<table border=\"1\" class=\"dataframe\">\n",
       "  <thead>\n",
       "    <tr style=\"text-align: right;\">\n",
       "      <th></th>\n",
       "      <th>Store_ID</th>\n",
       "      <th>Store_Name</th>\n",
       "      <th>Store_City</th>\n",
       "      <th>Store_Location</th>\n",
       "      <th>Store_Open_Date</th>\n",
       "    </tr>\n",
       "  </thead>\n",
       "  <tbody>\n",
       "    <tr>\n",
       "      <th>0</th>\n",
       "      <td>1</td>\n",
       "      <td>Maven Toys Guadalajara 1</td>\n",
       "      <td>Guadalajara</td>\n",
       "      <td>Residential</td>\n",
       "      <td>1992-09-18</td>\n",
       "    </tr>\n",
       "    <tr>\n",
       "      <th>1</th>\n",
       "      <td>2</td>\n",
       "      <td>Maven Toys Monterrey 1</td>\n",
       "      <td>Monterrey</td>\n",
       "      <td>Residential</td>\n",
       "      <td>1995-04-27</td>\n",
       "    </tr>\n",
       "    <tr>\n",
       "      <th>2</th>\n",
       "      <td>3</td>\n",
       "      <td>Maven Toys Guadalajara 2</td>\n",
       "      <td>Guadalajara</td>\n",
       "      <td>Commercial</td>\n",
       "      <td>1999-12-27</td>\n",
       "    </tr>\n",
       "    <tr>\n",
       "      <th>3</th>\n",
       "      <td>4</td>\n",
       "      <td>Maven Toys Saltillo 1</td>\n",
       "      <td>Saltillo</td>\n",
       "      <td>Downtown</td>\n",
       "      <td>2000-01-01</td>\n",
       "    </tr>\n",
       "    <tr>\n",
       "      <th>4</th>\n",
       "      <td>5</td>\n",
       "      <td>Maven Toys La Paz 1</td>\n",
       "      <td>La Paz</td>\n",
       "      <td>Downtown</td>\n",
       "      <td>2001-05-31</td>\n",
       "    </tr>\n",
       "  </tbody>\n",
       "</table>\n",
       "</div>"
      ],
      "text/plain": [
       "   Store_ID                Store_Name   Store_City Store_Location  \\\n",
       "0         1  Maven Toys Guadalajara 1  Guadalajara    Residential   \n",
       "1         2    Maven Toys Monterrey 1    Monterrey    Residential   \n",
       "2         3  Maven Toys Guadalajara 2  Guadalajara     Commercial   \n",
       "3         4     Maven Toys Saltillo 1     Saltillo       Downtown   \n",
       "4         5       Maven Toys La Paz 1       La Paz       Downtown   \n",
       "\n",
       "  Store_Open_Date  \n",
       "0      1992-09-18  \n",
       "1      1995-04-27  \n",
       "2      1999-12-27  \n",
       "3      2000-01-01  \n",
       "4      2001-05-31  "
      ]
     },
     "execution_count": 2,
     "metadata": {},
     "output_type": "execute_result"
    }
   ],
   "source": [
    "df = pd.read_csv(\"stores.csv\")\n",
    "df.head(5)"
   ]
  },
  {
   "cell_type": "code",
   "execution_count": 4,
   "id": "dbe4ce1d",
   "metadata": {},
   "outputs": [
    {
     "name": "stdout",
     "output_type": "stream",
     "text": [
      "<class 'pandas.core.frame.DataFrame'>\n",
      "RangeIndex: 50 entries, 0 to 49\n",
      "Data columns (total 5 columns):\n",
      " #   Column           Non-Null Count  Dtype \n",
      "---  ------           --------------  ----- \n",
      " 0   Store_ID         50 non-null     int64 \n",
      " 1   Store_Name       50 non-null     object\n",
      " 2   Store_City       50 non-null     object\n",
      " 3   Store_Location   50 non-null     object\n",
      " 4   Store_Open_Date  50 non-null     object\n",
      "dtypes: int64(1), object(4)\n",
      "memory usage: 2.1+ KB\n"
     ]
    }
   ],
   "source": [
    "df.info()"
   ]
  },
  {
   "cell_type": "code",
   "execution_count": 6,
   "id": "a915819b",
   "metadata": {},
   "outputs": [
    {
     "name": "stdout",
     "output_type": "stream",
     "text": [
      "<class 'pandas.core.frame.DataFrame'>\n",
      "RangeIndex: 50 entries, 0 to 49\n",
      "Data columns (total 6 columns):\n",
      " #   Column           Non-Null Count  Dtype         \n",
      "---  ------           --------------  -----         \n",
      " 0   Store_ID         50 non-null     int64         \n",
      " 1   Store_Name       50 non-null     object        \n",
      " 2   Store_City       50 non-null     object        \n",
      " 3   Store_Location   50 non-null     object        \n",
      " 4   Store_Open_Date  50 non-null     datetime64[ns]\n",
      " 5   Date             50 non-null     datetime64[ns]\n",
      "dtypes: datetime64[ns](2), int64(1), object(3)\n",
      "memory usage: 2.5+ KB\n"
     ]
    }
   ],
   "source": [
    "df['Store_Open_Date'] = pd.to_datetime(df['Store_Open_Date'])\n",
    "df.info()"
   ]
  },
  {
   "cell_type": "code",
   "execution_count": 8,
   "id": "7b7783f6",
   "metadata": {},
   "outputs": [],
   "source": [
    "df.drop('Date', axis=1, inplace=True)"
   ]
  },
  {
   "cell_type": "code",
   "execution_count": 3,
   "id": "6bd92ea9",
   "metadata": {},
   "outputs": [
    {
     "name": "stdout",
     "output_type": "stream",
     "text": [
      "Store_ID, Null values: 0, Unique values: 50\n",
      "Store_Name, Null values: 0, Unique values: 50\n",
      "Store_City, Null values: 0, Unique values: 29\n",
      "Store_Location, Null values: 0, Unique values: 4\n",
      "Store_Open_Date, Null values: 0, Unique values: 50\n"
     ]
    }
   ],
   "source": [
    "for i in df.columns:\n",
    "    null_count = df[i].isnull().sum()\n",
    "    unique_count = df[i].nunique()\n",
    "    print(f\"{i}, Null values: {null_count}, Unique values: {unique_count}\")\n"
   ]
  },
  {
   "cell_type": "code",
   "execution_count": 9,
   "id": "32719aec",
   "metadata": {},
   "outputs": [
    {
     "name": "stdout",
     "output_type": "stream",
     "text": [
      "<class 'pandas.core.frame.DataFrame'>\n",
      "RangeIndex: 50 entries, 0 to 49\n",
      "Data columns (total 5 columns):\n",
      " #   Column           Non-Null Count  Dtype         \n",
      "---  ------           --------------  -----         \n",
      " 0   Store_ID         50 non-null     int64         \n",
      " 1   Store_Name       50 non-null     object        \n",
      " 2   Store_City       50 non-null     object        \n",
      " 3   Store_Location   50 non-null     object        \n",
      " 4   Store_Open_Date  50 non-null     datetime64[ns]\n",
      "dtypes: datetime64[ns](1), int64(1), object(3)\n",
      "memory usage: 2.1+ KB\n"
     ]
    }
   ],
   "source": [
    "df.info()"
   ]
  },
  {
   "cell_type": "code",
   "execution_count": 10,
   "id": "3b70e298",
   "metadata": {},
   "outputs": [],
   "source": [
    "df.to_csv('Clean_stores.csv', index=False)"
   ]
  },
  {
   "cell_type": "code",
   "execution_count": null,
   "id": "46edbc31",
   "metadata": {},
   "outputs": [],
   "source": []
  }
 ],
 "metadata": {
  "kernelspec": {
   "display_name": "base",
   "language": "python",
   "name": "python3"
  },
  "language_info": {
   "codemirror_mode": {
    "name": "ipython",
    "version": 3
   },
   "file_extension": ".py",
   "mimetype": "text/x-python",
   "name": "python",
   "nbconvert_exporter": "python",
   "pygments_lexer": "ipython3",
   "version": "3.12.4"
  }
 },
 "nbformat": 4,
 "nbformat_minor": 5
}
